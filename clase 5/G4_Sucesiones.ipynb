{
  "cells": [
    {
      "cell_type": "markdown",
      "metadata": {
        "id": "Jsg7AmugfdN3"
      },
      "source": [
        "# Problema 1"
      ]
    },
    {
      "cell_type": "markdown",
      "metadata": {
        "id": "_IzpNklvfgKe"
      },
      "source": [
        "Considere la sucesión $a_{n} = 3n^{2} + 7$. Por medio de un código en *Python* despliega en pantalla:\n",
        "\n",
        "1. Los primeros $5$ términos.\n",
        "2. Los $5$ términos que vienen inmediatamente después del decimoquinto término."
      ]
    },
    {
      "cell_type": "markdown",
      "metadata": {
        "id": "MpHLoYWfk97E"
      },
      "source": [
        "# Problema 2"
      ]
    },
    {
      "cell_type": "markdown",
      "metadata": {
        "id": "TdrPqS7Mk_l0"
      },
      "source": [
        "Considere la sucesión $g_{n} = 5n^{3}$. Implemente un código en *Python* que muestre en pantalla:\n",
        "\n",
        "1. Los primeros $4$ términos de la sucesión.\n",
        "2. Los $4$ términos que vienen inmediatamente después del octavo término.\n",
        "3. Determinar si el término $40.000$ pertenece a la sucesión. Si es así, indicar en qué posición se encuentra."
      ]
    },
    {
      "cell_type": "markdown",
      "metadata": {
        "id": "7GDU-KDLuR7i"
      },
      "source": [
        "# Problema 3"
      ]
    },
    {
      "cell_type": "markdown",
      "metadata": {
        "id": "GG1duXd1uU6Z"
      },
      "source": [
        "La sucesión de Fibonacci es una serie de números en la que cada número, desde el tercero en adelante, es la suma de los dos anteriores. Comienza con el $0$ y $1$, tal como se observa a continuación:\n",
        "\n",
        "$$0, 1, 1, 2, 3, 5, 8, 13, ...$$\n",
        "\n",
        "Formalmente, la sucesión se define de la siguiente manera:\n",
        "\n",
        "\\begin{split}\n",
        "F(0) &= 0\\\\\n",
        "F(1) &= 1\\\\\n",
        "F(n) &= F(n - 1) + F(n - 2), \\ \\text{ para $n \\geq 2$}\n",
        "\\end{split}\n",
        "\n",
        "Esta sucesión se utiliza en una variedad de contextos en informática y algoritmos debido a sus propiedades matemáticas y patrones.\n",
        "\n",
        "1. Implementa un código en *Python* que muestre en pantalla los primeros $20$ términos de la sucesión.\n",
        "2. Calcula, utilizando un ciclo *for*, la suma de los primeros $30$ términos de la sucesión de Fibonacci."
      ]
    },
    {
      "cell_type": "markdown",
      "metadata": {
        "id": "OFL3b7nt8Rq_"
      },
      "source": [
        "# Problema 4"
      ]
    },
    {
      "cell_type": "markdown",
      "metadata": {
        "id": "j5QlZQwJSDsZ"
      },
      "source": [
        "Implementa un código que permita guardar en una lista la sucesión de los primeros $n$ números pares, con $n \\geq 1$. Luego, determina:\n",
        "\n",
        "1. ¿Cuál es el valor del décimo término?\n",
        "2. Calcula, utilizando un ciclo *for*, la suma de los primeros $100$ números pares.\n",
        "3. ¿En qué posición se encuentra el número $58$ dentro de la sucesión?"
      ]
    },
    {
      "cell_type": "markdown",
      "metadata": {
        "id": "gBcDYpK2Z3GT"
      },
      "source": [
        "# Problema 5"
      ]
    },
    {
      "cell_type": "markdown",
      "metadata": {
        "id": "eS3i68R4Z6YQ"
      },
      "source": [
        "Un nuevo software tiene $500$ usuarios y se espera que el número de usuarios crezca un $15\\%$ respecto al mes anterior. Considere que $b_{n}$ es el número de usuarios transcurridos $n$ meses.\n",
        "\n",
        "1. Calcula cuántos usuarios tendrá el software al cabo de tres meses. ¿Y al cabo de seis meses?\n",
        "2. Mediante un código en *Pyhton* muestra la cantidad de usuarios que tendrá el software cada mes durante el primer año.\n",
        "2. ¿Cuántos usuarios tendrá en total el software luego de un año? Utilice ciclos *for* para calcular."
      ]
    },
    {
      "cell_type": "code",
      "execution_count": 24,
      "metadata": {},
      "outputs": [
        {
          "name": "stdout",
          "output_type": "stream",
          "text": [
            "En el mes 1 la cantidad de usuarios es de: 575.0\n",
            "En el mes 2 la cantidad de usuarios es de: 661.25\n",
            "+------------------------------------------------+\n",
            "Al cabo de tres meses\n",
            "En el mes 3 la cantidad de usuarios es de: 760.44\n",
            "+------------------------------------------------+\n",
            "En el mes 4 la cantidad de usuarios es de: 874.5\n",
            "En el mes 5 la cantidad de usuarios es de: 1005.68\n",
            "+------------------------------------------------+\n",
            "Al cabo de seis meses\n",
            "En el mes 6 la cantidad de usuarios es de: 1156.53\n",
            "+------------------------------------------------+\n",
            "En el mes 7 la cantidad de usuarios es de: 1330.01\n",
            "En el mes 8 la cantidad de usuarios es de: 1529.51\n",
            "En el mes 9 la cantidad de usuarios es de: 1758.94\n",
            "En el mes 10 la cantidad de usuarios es de: 2022.78\n",
            "En el mes 11 la cantidad de usuarios es de: 2326.2\n",
            "En el mes 12 la cantidad de usuarios es de: 2675.13\n",
            "La cantidad total de usuarios a los 12 meses (un año) es de: 16675.96\n"
          ]
        }
      ],
      "source": [
        "a0 = 500\n",
        "r = 1.15\n",
        "a1 = 500*1.15\n",
        "def A(n):\n",
        "    return 575*1.15**(n-1)\n",
        "\n",
        "suma = 0\n",
        "\n",
        "for i in range(12):\n",
        "    if i+1 == 3:\n",
        "        print(\"+\" + \"-\" * 48 + \"+\")\n",
        "        print(\"Al cabo de tres meses\")\n",
        "        print(\"En el mes\",i+1,\"la cantidad de usuarios es de:\",round(A(i+1),2))\n",
        "        print(\"+\" + \"-\" * 48 + \"+\")\n",
        "        suma += +A(i+1)\n",
        "        continue\n",
        "    elif i+1 == 6:\n",
        "        print(\"+\" + \"-\" * 48 + \"+\")\n",
        "        print(\"Al cabo de seis meses\")\n",
        "        print(\"En el mes\",i+1,\"la cantidad de usuarios es de:\",round(A(i+1),2))\n",
        "        print(\"+\" + \"-\" * 48 + \"+\")\n",
        "        suma += +A(i+1)\n",
        "        continue\n",
        "    print(\"En el mes\",i+1,\"la cantidad de usuarios es de:\",round(A(i+1),2))\n",
        "    suma += +A(i+1)\n",
        "print(\"La cantidad total de usuarios a los 12 meses (un año) es de:\",round(suma,2))"
      ]
    },
    {
      "cell_type": "markdown",
      "metadata": {
        "id": "s2hruXWnJDbS"
      },
      "source": [
        "# Problema 6"
      ]
    },
    {
      "cell_type": "markdown",
      "metadata": {
        "id": "hH_VNmA_Og0U"
      },
      "source": [
        "Un estudiante de ingeniería informática planea ahorrar para un proyecto personal. Para esto, el primer mes deposita $\\$12.000$ y cada mes aumenta el depósito en $\\$2.000$. Considere que $a_{i}$ corresponde al depósito mensual del estudiante. Determine:\n",
        "\n",
        "1. Implementa un código que permita mostrar en pantalla lo que depositó mensualmente durante el primer año.\n",
        "2. ¿Cuánto depositó el estudiante en febrero del segundo año?\n",
        "3. ¿Cuál será el total ahorrado al finalizar dos años?"
      ]
    },
    {
      "cell_type": "markdown",
      "metadata": {
        "id": "G9sEfl4rB3e8"
      },
      "source": [
        "# Problema 7"
      ]
    },
    {
      "cell_type": "markdown",
      "metadata": {
        "id": "KZUNnG20CT4F"
      },
      "source": [
        "Por lo general, los proyectos son organizados en varias etapas que deben completarse secuencialmente.\n",
        "\n",
        "La fase inicial de un proyecto de software tiene una duración de $3$ meses y cada fase subsecuente reduce su duración en un $10 \\%$ debido a la experiencia ganada. Determine:\n",
        "\n",
        "1. ¿Cuánto dura la quinta fase?\n",
        "2. Calcula la duración total del proyecto después de $10$ fases."
      ]
    },
    {
      "cell_type": "code",
      "execution_count": 18,
      "metadata": {},
      "outputs": [
        {
          "name": "stdout",
          "output_type": "stream",
          "text": [
            "En la fase 1 la duracion en meses es: 3.0\n",
            "En la fase 2 la duracion en meses es: 2.7\n",
            "En la fase 3 la duracion en meses es: 2.43\n",
            "En la fase 4 la duracion en meses es: 2.19\n",
            "+------------------------------------------------+\n",
            "Esto es cuanto dura la quinta fase\n",
            "En la fase 5 la duración en meses es: 1.97 \n",
            "+------------------------------------------------+\n",
            "En la fase 6 la duracion en meses es: 1.77\n",
            "En la fase 7 la duracion en meses es: 1.59\n",
            "En la fase 8 la duracion en meses es: 1.43\n",
            "En la fase 9 la duracion en meses es: 1.29\n",
            "En la fase 10 la duracion en meses es: 1.16\n"
          ]
        }
      ],
      "source": [
        "A1 = 3\n",
        "r=0.9\n",
        "\n",
        "def A(n):\n",
        "    return 3*0.9**(n-1)\n",
        "\n",
        "for i in range(10):\n",
        "    if i+1 == 5:\n",
        "        print(\"+\" + \"-\" * 48 + \"+\")\n",
        "        print(\"Esto es cuanto dura la quinta fase\")\n",
        "        print(\"En la fase\", i + 1, \"la duración en meses es:\", round(A(i + 1), 2), \" \" * (22 - len(f\"En la fase {i + 1} la duración en meses es: {round(A(i + 1), 2)}\")))\n",
        "        print(\"+\" + \"-\" * 48 + \"+\")\n",
        "        continue\n",
        "    print(\"En la fase\",i+1,\"la duracion en meses es:\",round(A(i+1),2))"
      ]
    },
    {
      "cell_type": "markdown",
      "metadata": {
        "id": "keVOy_xIlU1E"
      },
      "source": [
        "# Problema 8"
      ]
    },
    {
      "cell_type": "markdown",
      "metadata": {
        "id": "QXrNG-zulXil"
      },
      "source": [
        "En una sucesión aritmética, la diferencia entre un término y el anterior es $4$ y el décimo término es $-20$. Determine:\n",
        "\n",
        "1. El primer término de la sucesión.\n",
        "2. La expresión del término de lugar $n$.\n",
        "3. Utilice un código en *Python* para calcular el término que ocupa el lugar $100$.\n",
        "4. Determinar la posición del número $1.680$ en la secuencia. Calcule utilizando un ciclo *while*."
      ]
    },
    {
      "cell_type": "markdown",
      "metadata": {
        "id": "gFYqGSbdqoqT"
      },
      "source": [
        "# Problema 9"
      ]
    },
    {
      "cell_type": "markdown",
      "metadata": {
        "id": "UtblbNCYqxOM"
      },
      "source": [
        "El tercer término de una sucesión geométrica es $5$ y el sexto término es $40$. Determine:\n",
        "\n",
        "1. La razón geométrica de la sucesión.\n",
        "2. El primer término de la sucesión.\n",
        "3. La expresión del término de lugar $n$.\n",
        "4. Utilice un código en *Python* para calcular el término que ocupa el lugar $8$.\n",
        "4. ¿Qué lugar ocupa en esta sucesión el término $20.480$? Calcule utilizando un ciclo *while*."
      ]
    },
    {
      "cell_type": "code",
      "execution_count": 4,
      "metadata": {},
      "outputs": [
        {
          "name": "stdout",
          "output_type": "stream",
          "text": [
            "160.0\n",
            "posicion: 1 termino 1.25\n",
            "posicion: 2 termino 2.5\n",
            "posicion: 3 termino 5.0\n",
            "posicion: 4 termino 10.0\n",
            "posicion: 5 termino 20.0\n",
            "posicion: 6 termino 40.0\n",
            "posicion: 7 termino 80.0\n",
            "posicion: 8 termino 160.0\n",
            "posicion: 9 termino 320.0\n",
            "posicion: 10 termino 640.0\n",
            "posicion: 11 termino 1280.0\n",
            "posicion: 12 termino 2560.0\n",
            "posicion: 13 termino 5120.0\n",
            "posicion: 14 termino 10240.0\n",
            "posicion: 15 termino 20480.0\n"
          ]
        }
      ],
      "source": [
        "\"\"\"\n",
        "    A3=5\n",
        "    A6=40\n",
        "    r = ?\n",
        "r = An+1/An = An/an-1\n",
        "_____________________\n",
        "An = a+A1 * r**(n-1)\n",
        "40 = A1 *r**5\n",
        "5  = A1 *r**2\n",
        "\n",
        "8 = r**3\n",
        "3√8 = r\n",
        "2 = r\n",
        "\n",
        "###########\n",
        "5 = a1 * 2**2\n",
        "5/2**2 =a1\n",
        "1.25 = a1\n",
        "###########\n",
        "\n",
        "An = 1.25*2**(n-1)\n",
        "\"\"\"\n",
        "def raiz(numero, grado):\n",
        "    return numero ** (1/grado)\n",
        "\n",
        "def A(n):\n",
        "    return 1.25*2**(n-1)\n",
        "\n",
        "print(A(8))\n",
        "\n",
        "\n",
        "diferencia = 20480\n",
        "contador = 1\n",
        "\n",
        "while diferencia >0:\n",
        "    diferencia = 20480\n",
        "    print(\"posicion:\",contador,\"termino\",A(contador))\n",
        "    diferencia = diferencia - A(contador)\n",
        "    contador += +1"
      ]
    },
    {
      "cell_type": "markdown",
      "metadata": {
        "id": "Ju4J8uWfxQKk"
      },
      "source": [
        "# Problema 10"
      ]
    },
    {
      "cell_type": "markdown",
      "metadata": {
        "id": "F6FPVCXQxTMj"
      },
      "source": [
        "Una empresa de tecnología está optimizando sus servidores. Para ello, mide cada mes las transacciones por segundo (TPS) de sus servidores. Se ha obtenido que el segundo mes, el rendimiento del servidor es $1,2$ miles de TPS y el quinto mes, el rendimiento es de $2,7$ miles de TPS. Determina utilizando un código en *Python*:\n",
        "\n",
        "1. ¿Cuál es el rendimiento el noveno mes?\n",
        "2. ¿En qué mes el rendimiento es de $23,4$ miles de TPS?\n",
        "\n",
        "Utilice dos decimales para el cálculo."
      ]
    },
    {
      "cell_type": "markdown",
      "metadata": {
        "id": "jxQyaJXUCW7m"
      },
      "source": [
        "# Problema 11"
      ]
    },
    {
      "cell_type": "markdown",
      "metadata": {
        "id": "8LdxsBUwDfbf"
      },
      "source": [
        "Una aplicación de redes sociales inició el $1$ de enero y comenzó a ganar usuarios rápidamente. El $3$ de enero tenía $500$ usuarios y el $10$ de enero tenía $1.501$ usuarios. Si el número de usuarios sigue creciendo de manera constante, determine:\n",
        "\n",
        "1. ¿Con cuántos usuarios comenzó a funcionar la aplicación?\n",
        "2. ¿Cuántos usuarios tendrá la aplicación el $31$ de enero?\n",
        "3. Si la aplicación tiene $5.505$ usuarios, ¿cuántos meses lleva funcionando?\n",
        "\n"
      ]
    },
    {
      "cell_type": "markdown",
      "metadata": {
        "id": "zBN3BhYVLLSe"
      },
      "source": [
        "# Problema 12"
      ]
    },
    {
      "cell_type": "markdown",
      "metadata": {
        "id": "kszkhh_GLQN1"
      },
      "source": [
        "Una empresa de publicidad ofrece para un puesto de trabajo un salario inicial y un aumento mensual en una razón constante. Javier se presenta a la entrevista, y el encargado del departamento de recursos humanos le explica que en el segundo mes de trabajo su sueldo será de $\\$402.000$, y que en el tercer mes de trabajo será de $\\$404.010$. Determine:\n",
        "\n",
        "1. El salario aproximado que Javier recibiría en el décimo mes de trabajo en la empresa.\n",
        "2. ¿Cuál sería el ingreso total recibido por los sueldos de Javier durante el tercer año de trabajo?"
      ]
    },
    {
      "cell_type": "markdown",
      "metadata": {
        "id": "-lx5k4b9Y8sD"
      },
      "source": [
        "# Problema 13"
      ]
    },
    {
      "cell_type": "markdown",
      "metadata": {
        "id": "OVuWQuXsY_pp"
      },
      "source": [
        "Una empresa de ciberseguridad capacita trabajadores cada trimestre. En el primer trimestre capacitaron a $30$ trabajadores, en el segundo trimestre a $60$ trabajadores, y en el tercer trimestre a $120$ trabajadores. Si en los siguientes trimestres la empresa mantiene el mismo patrón de crecimiento, determine utilizando *Python*:\n",
        "\n",
        "1. ¿A cuántos trabajadores capacitarán en el octavo trimestre?\n",
        "2. Si la empresa lleva en el mercado $3$ años, ¿a cuántos trabajadores han capacitado en total?"
      ]
    },
    {
      "cell_type": "code",
      "execution_count": 35,
      "metadata": {},
      "outputs": [
        {
          "name": "stdout",
          "output_type": "stream",
          "text": [
            "En trimestre 1 se capacitaran: 30\n",
            "En trimestre 2 se capacitaran: 60\n",
            "En trimestre 3 se capacitaran: 120\n",
            "En trimestre 4 se capacitaran: 240\n",
            "En trimestre 5 se capacitaran: 480\n",
            "En trimestre 6 se capacitaran: 960\n",
            "En trimestre 7 se capacitaran: 1920\n",
            "+------------------------------------------------+\n",
            "En trimestre 8 se capacitaran: 3840\n",
            "+------------------------------------------------+\n",
            "En trimestre 9 se capacitaran: 7680\n",
            "En trimestre 10 se capacitaran: 15360\n",
            "En trimestre 11 se capacitaran: 30720\n",
            "En trimestre 12 se capacitaran: 61440\n",
            "En trimestre 13 se capacitaran: 122880\n",
            "La cantidad total de trabajadores que se capacitan en 36 meses (tres) es de: 245730\n"
          ]
        }
      ],
      "source": [
        "\"\"\"\n",
        "    A1=30\n",
        "    A2=60\n",
        "    A3=120\n",
        "    r = 2\n",
        "r = An+1/An = An/an-1\n",
        "r = 60/30-1\n",
        "_____________________\n",
        "An = a+A1 * r**(n-1)\n",
        "\"\"\"\n",
        "r = 2\n",
        "a1 = 30\n",
        "def A(n):\n",
        "    return 30*2**(n-1)\n",
        "\n",
        "suma = 0\n",
        "contador = 1\n",
        "for i in range(12):\n",
        "    if contador == 8:\n",
        "        print(\"+\" + \"-\" * 48 + \"+\")\n",
        "        print(\"En trimestre\",contador,\"se capacitaran:\",round(A(i+1),2))\n",
        "        print(\"+\" + \"-\" * 48 + \"+\")\n",
        "        contador += +1\n",
        "        suma += +A(i+1)\n",
        "        continue\n",
        "    print(\"En trimestre\",contador,\"se capacitaran:\",round(A(i+1),2))\n",
        "    contador += +1\n",
        "    suma += +A(i+1)\n",
        "print(\"La cantidad total de trabajadores que se capacitan en 36 meses (tres) es de:\",round(suma,2))"
      ]
    },
    {
      "cell_type": "markdown",
      "metadata": {
        "id": "IM7Xf51G6AXs"
      },
      "source": [
        "# Problema 14"
      ]
    },
    {
      "cell_type": "markdown",
      "metadata": {
        "id": "Ni_4WMQl6OeV"
      },
      "source": [
        "Al llenar un tambor con agua, se registra que durante el minuto $4$ el tambor recibe $128$ litros, y durante el minuto $9$ recibe $88$ litros. Sabiendo que en cada minuto recibe una cantidad $d$ de litros de agua menos que en el minuto anterior, determine:\n",
        "\n",
        "1. ¿En qué instante el tambor deja de recibir agua?\n",
        "2. ¿Cuántos litros recibe en total el tambor?\n",
        "\n",
        "Realice los cálculos anteriores utilizando *Python*."
      ]
    }
  ],
  "metadata": {
    "colab": {
      "provenance": []
    },
    "kernelspec": {
      "display_name": "Python 3",
      "name": "python3"
    },
    "language_info": {
      "codemirror_mode": {
        "name": "ipython",
        "version": 3
      },
      "file_extension": ".py",
      "mimetype": "text/x-python",
      "name": "python",
      "nbconvert_exporter": "python",
      "pygments_lexer": "ipython3",
      "version": "3.11.1"
    }
  },
  "nbformat": 4,
  "nbformat_minor": 0
}
