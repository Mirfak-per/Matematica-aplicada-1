{
  "cells": [
    {
      "cell_type": "markdown",
      "metadata": {
        "id": "t48ZzDLtux0T"
      },
      "source": [
        "# Problema 1"
      ]
    },
    {
      "cell_type": "markdown",
      "metadata": {
        "id": "cWCfLm-fvNTx"
      },
      "source": [
        "Escribe un código que pida al usuario ingresar un número real y determine si el número ingresado es positivo, negativo o cero."
      ]
    },
    {
      "cell_type": "code",
      "execution_count": 1,
      "metadata": {},
      "outputs": [
        {
          "name": "stdout",
          "output_type": "stream",
          "text": [
            "El numero -4213 es negativo\n"
          ]
        }
      ],
      "source": [
        "while True:\n",
        "    try:\n",
        "        x = int(input(\"Ingrese un numero entero: \"))\n",
        "        break\n",
        "    except:\n",
        "        print(\"Error,Ingrese nuevamente, no se aceptan numeros decimales o numeros escritos\")\n",
        "\n",
        "if x > 0:\n",
        "    print(f\"El numero {x} es positivo\")\n",
        "elif x < 0:\n",
        "    print(f\"El numero {x} es negativo\")\n",
        "else:\n",
        "    print(\"El numero es 0 / neutro\")"
      ]
    },
    {
      "cell_type": "markdown",
      "metadata": {
        "id": "6civkm_Pwf1B"
      },
      "source": [
        "# Problema 2"
      ]
    },
    {
      "cell_type": "markdown",
      "metadata": {
        "id": "rjeAxtJ4x9h6"
      },
      "source": [
        "Escribe un código que pida al usuario ingresar un número entero y que determine si el número ingresado es par o impar.\n"
      ]
    },
    {
      "cell_type": "code",
      "execution_count": null,
      "metadata": {},
      "outputs": [],
      "source": [
        "while True:\n",
        "    try:\n",
        "        x = int(input(\"Ingrese un numero entero: \"))\n",
        "        break\n",
        "    except:\n",
        "        print(\"Error,Ingrese nuevamente, no se aceptan numeros decimales o numeros escritos\")\n",
        "\n",
        "if x % 2 == 0:\n",
        "    print(f\"El numero {x} es par\")\n",
        "elif x % 2 != 0:\n",
        "    print(f\"El numero {x} es impar\")"
      ]
    },
    {
      "cell_type": "markdown",
      "metadata": {
        "id": "rLA34mTgxuSf"
      },
      "source": [
        "# Problema 3"
      ]
    },
    {
      "cell_type": "markdown",
      "metadata": {
        "id": "6E3zFuZSwigv"
      },
      "source": [
        "Escribe un código que, mediante un ciclo *while*, sume los primeros $100$ números naturales."
      ]
    },
    {
      "cell_type": "code",
      "execution_count": null,
      "metadata": {},
      "outputs": [],
      "source": [
        "x= 0\n",
        "I = 1\n",
        "while True:\n",
        "    print(F\"{x} + {I} = {x+I}\")\n",
        "    x = x+I\n",
        "    I += +1\n",
        "    if I == 101: \n",
        "        break"
      ]
    },
    {
      "cell_type": "markdown",
      "metadata": {
        "id": "pZpuARSKz4zw"
      },
      "source": [
        "# Problema 4"
      ]
    },
    {
      "cell_type": "markdown",
      "metadata": {
        "id": "SxGOLjlnz6y_"
      },
      "source": [
        "Escribe un código que almacene en una variable el *string* \"Contraseña\". Luego, el programa debe solicitar al usuario \"Introducir contraseña\", hasta que la palabra ingresada sea correcta. <sup><a href=\"#footnote1\" id=\"ref1\">1</a></sup>\n",
        "\n",
        "\n",
        "<p id=\"footnote1\"><sup>1</sup> String: Tipo de dato que almacena texto."
      ]
    },
    {
      "cell_type": "code",
      "execution_count": null,
      "metadata": {},
      "outputs": [],
      "source": [
        "import os\n",
        "Contra = input(\"Ingrese su contraseña: \")\n",
        "os.system(\"cls\")\n",
        "print(\"Contraseña agregada con exito\")\n",
        "while True:\n",
        "    rev = input(\"Ingrese la contraseña para acceder: \")\n",
        "    if rev == Contra:\n",
        "        print(\"Contraseña correcta\")\n",
        "        break\n",
        "    else:\n",
        "        print(\"Error, contraseña incorrecta, intente nuevamente\")"
      ]
    },
    {
      "cell_type": "markdown",
      "metadata": {
        "id": "bXAO6t1V1psK"
      },
      "source": [
        "# Problema 5"
      ]
    },
    {
      "cell_type": "markdown",
      "metadata": {
        "id": "nXwlwVHI11wC"
      },
      "source": [
        "Escribe un código que, utilizando un ciclo *for*, pida al usuario ingresar un número entero y muestre la tabla de multiplicar desde el 1 al 12 de dicho número."
      ]
    },
    {
      "cell_type": "code",
      "execution_count": null,
      "metadata": {},
      "outputs": [],
      "source": [
        "while True:\n",
        "    try:\n",
        "        x = int(input(\"Ingrese un numero entero: \"))\n",
        "        break\n",
        "    except:\n",
        "        print(\"Error,Ingrese nuevamente, no se aceptan numeros decimales o numeros escritos\")\n",
        "\n",
        "ix = 1\n",
        "\n",
        "for i in range(12):\n",
        "    print (f\"{x} x {ix} = {x*ix}\")\n",
        "    ix += +1"
      ]
    },
    {
      "cell_type": "markdown",
      "metadata": {
        "id": "UroIuMyFCKax"
      },
      "source": [
        "# Problema 6"
      ]
    },
    {
      "cell_type": "markdown",
      "metadata": {
        "id": "VoiJyh0zCMzX"
      },
      "source": [
        "1. Escribe una función que reciba dos números y retorne el producto de los números recibidos.\n",
        "1. Escribe una nueva función que tome el producto calculado en el ítem anterior y redondee el valor al entero.\n",
        "1. Pide al usuario que ingrese dos números, y utiliza ambas funciones para imprimir el valor de la multiplicación redondeado al entero."
      ]
    },
    {
      "cell_type": "code",
      "execution_count": null,
      "metadata": {},
      "outputs": [],
      "source": [
        "def Producto2num():\n",
        "    while True:\n",
        "        try:\n",
        "            x = float(input(\"Ingrese un numero entero: \"))\n",
        "            i = float(input(\"Ingrese el segundo numero: \"))\n",
        "            break\n",
        "        except:\n",
        "            print(\"Error,Ingrese nuevamente, no se aceptan numeros escritos ej: NO se aceptan: 'dos' \")\n",
        "    producto = x * i\n",
        "    return producto\n",
        "\n",
        "def redondeoprod(producto):\n",
        "    #round redondea al valor mas cercano \n",
        "    return round(producto)\n",
        "\n",
        "\n",
        "Producto = Producto2num()\n",
        "\n",
        "redondeo = redondeoprod(Producto)\n",
        "\n",
        "print(f\"El los numeros que ingreso al ser multiplicados y luego redondeados son {redondeo}\")"
      ]
    },
    {
      "cell_type": "markdown",
      "metadata": {
        "id": "GHMOEBgQDvUw"
      },
      "source": [
        "# Problema 7"
      ]
    },
    {
      "cell_type": "markdown",
      "metadata": {
        "id": "I77oq5plD50H"
      },
      "source": [
        "La fórmula que permite convertir los grados Celsius a Fahrenheit es la siguiente:\n",
        "\n",
        "$$ F = \\frac{9}{5} C + 32$$\n",
        "\n",
        "1. Crea una función que permita realizar esta conversión.\n",
        "1. Luego, pide al usuario que ingrese la temperatura en grados Celsius y utiliza la función para calcular su equivalente en grados Fahrenheit.\n",
        "1. Imprime el resultado redondeado a la centésima."
      ]
    },
    {
      "cell_type": "code",
      "execution_count": null,
      "metadata": {},
      "outputs": [],
      "source": [
        "def ctof():\n",
        "    while True:\n",
        "        try:\n",
        "            x = float(input(\"Ingrese grados celcius para transformar a fahrenheit: \"))\n",
        "            break\n",
        "        except:\n",
        "            print(\"Error, Ingrese un numero valido, como '2,-2, 0.2 , -0,2 '\")\n",
        "    ctof1 = ((9/5)*x) +32\n",
        "    round(ctof1,2)\n",
        "    return ctof1\n",
        "\n",
        "ctof2 = ctof()\n",
        "print(f\"Los grados celcius transformados a gahrenheit y redondeados a la cestesima (dos decimales) es: {ctof2}\")"
      ]
    },
    {
      "cell_type": "markdown",
      "metadata": {
        "id": "yC4Sju1KGQFn"
      },
      "source": [
        "# Problema 8"
      ]
    },
    {
      "cell_type": "markdown",
      "metadata": {
        "id": "Qw6j4zbSG0NH"
      },
      "source": [
        "1. Escribe un código que importe el módulo *random* y utiliza la función *randint()* para generar diez números aleatorios entre $1$ y $100$, y almacénalos en una lista.\n",
        "1. Imprime en pantalla la lista con los diez números generados.\n",
        "1. Utiliza la indexación en *Python* para acceder al segundo y sexto elemento de la lista. Ten en cuenta que en *Python* los índices comienzan en $0$. ¿Cómo imprimirías estos elementos?"
      ]
    },
    {
      "cell_type": "code",
      "execution_count": null,
      "metadata": {},
      "outputs": [],
      "source": [
        "import random\n",
        "lista = []\n",
        "for i in range (10):\n",
        "    lista.append(random.randint(1,100))\n",
        "\n",
        "print(lista)\n",
        "\n",
        "print(f\"El segundo y sexto elemeno de la lista es {lista[1]} y {lista[5]} \")"
      ]
    },
    {
      "cell_type": "markdown",
      "metadata": {
        "id": "qlwdqEfzHrL_"
      },
      "source": [
        "# Problema 9"
      ]
    },
    {
      "cell_type": "markdown",
      "metadata": {
        "id": "iqH0iITmJH-P"
      },
      "source": [
        "El Índice de Masa Corporal (IMC) es una medida que se utiliza para evaluar si una persona se encuentra en un peso saludable con respecto a su estatura. La fórmula para calcular esta medida es:\n",
        "\n",
        "<br>\n",
        "\n",
        "$$ \\textrm{IMC} = \\frac{\\textrm{peso} \\ \\ (\\textrm{kg})}{(\\textrm{altura} \\ \\ (\\textrm{m}))^{2}}$$\n",
        "\n",
        "<br>\n",
        "\n",
        "El valor obtenido con el IMC, de acuerdo con la Organización Mundial de la Salud (OMS) indica si la persona tiene un peso bajo, normal, sobrepeso u obesidad. La clasificación es la siguiente:\n",
        "\n",
        "<br>\n",
        "\n",
        "* Bajo peso: IMC menor a $18,5 \\ \\  \\textrm{kg/m}^{2}$\n",
        "* Peso normal: IMC entre $18,5 \\ \\ \\textrm{kg/m}^{2}$ y $24,9 \\ \\ \\textrm{kg/m}^{2}$\n",
        "* Sobrepeso: IMC entre $25 \\ \\ \\textrm{kg/m}^{2}$ y $29,9 \\ \\ \\textrm{kg/m}^{2}$\n",
        "* Obesidad: IMC de $30 \\ \\ \\textrm{kg/m}^{2}$ o mayor\n",
        "\n",
        "<br>\n",
        "\n",
        "Aunque el IMC es una forma eficaz de evaluar el peso, no tiene en cuenta factores como la distribución de grasa, la masa muscular y otros rasgos de la salud física.\n",
        "\n",
        "<br>\n",
        "\n",
        "1. Considerando la información entregada, implementa un código que permita calcular mediante una función, el valor del IMC de una persona. Luego, solicita al usuario valores de masa y altura e indica, mediante el uso de condicionales, la categoría de la persona según el IMC calculado.\n",
        "1. Considera la siguiente tabla de valores, que muestra el peso y el IMC de once estudiantes. Guarda los valores del IMC en una lista e imprime en pantalla los estudiantes que, según el criterio de la OMS, están en **bajo peso**. Además, para cada IMC que esté en bajo peso, índica también el índice en la lista donde se encuentra.\n",
        "\n",
        "<p><center>\n",
        "\n",
        "| N°      | Peso $(\\textrm{kg})$ | IMC $(\\textrm{kg/m}^{2})$|\n",
        "|---------|----------------------|--------------------------|\n",
        "|$$ 1 $$  | $$29,5 $$            | $$16,43$$                |\n",
        "|$$ 2 $$  | $$37,3 $$            | $$19,31$$                |\n",
        "|$$ 3 $$  | $$38   $$            | $$10,25$$                |\n",
        "|$$ 4 $$  | $$31   $$            | $$18,63$$                |\n",
        "|$$ 5 $$  | $$36   $$            | $$17,85$$                |\n",
        "|$$ 6 $$  | $$40,4 $$            | $$19,76$$                |\n",
        "|$$ 7 $$  | $$47   $$            | $$23,64$$                |\n",
        "|$$ 8 $$  | $$43   $$            | $$21,94$$                |\n",
        "|$$ 9 $$  | $$36   $$            | $$21,3 $$                |\n",
        "|$$ 10$$  | $$40,1 $$            | $$22,67$$                |\n",
        "|$$ 11$$  | $$27   $$            | $$16,48$$                |\n",
        "\n",
        "</center></p>\n",
        "\n"
      ]
    },
    {
      "cell_type": "code",
      "execution_count": null,
      "metadata": {},
      "outputs": [],
      "source": [
        "numeros = [1, 2, 3, 4, 5, 6, 7, 8, 9, 10, 11]\n",
        "pesos = [29.5, 37.3, 38, 31, 36, 40.4, 47, 43, 36, 40.1, 27]\n",
        "imc = [16.43, 19.31, 10.25, 18.63, 17.85, 19.76, 23.64, 21.94, 21.3, 22.67, 16.48]\n",
        "\n",
        "def unimc():\n",
        "    while True:\n",
        "        try:\n",
        "            Peso= float(input(\"Ingrese su peso en kg: \"))\n",
        "            altura = float(input(\"Ingrese su altura en metros: \"))\n",
        "            break\n",
        "        except:\n",
        "            print(\"Error, Ingreso un numero no valido, intente otra vez\")\n",
        "    imc= Peso/(altura**2)\n",
        "    print(imc)\n",
        "\n",
        "def valoresimc(numeros,pesos,imc):\n",
        "    for i in range (len(numeros)):\n",
        "        if imc[i] < 18.5:\n",
        "            print(f\"El alumno {numeros[i]}, de peso {pesos[i]}, imc {imc[i]}, esta bajo el peso segun el criterio de la oms\")\n",
        "\n",
        "\n",
        "print(\"1. Calcular imc personal\")\n",
        "print(\"2. Ver imc bajo peso en la lista de alumnos\")\n",
        "opc = input(\"Ingrese un numero 1-2\")\n",
        "if opc == \"1\":\n",
        "    unimc()\n",
        "elif opc == \"2\":\n",
        "    valoresimc(numeros,pesos,imc)\n",
        "elif opc == \"3\":\n",
        "    print(\"Saliendo...\")\n",
        "else:\n",
        "    print(\"Ingrese una opcion valida\")"
      ]
    }
  ],
  "metadata": {
    "colab": {
      "provenance": [],
      "toc_visible": true
    },
    "kernelspec": {
      "display_name": "Python 3",
      "name": "python3"
    },
    "language_info": {
      "codemirror_mode": {
        "name": "ipython",
        "version": 3
      },
      "file_extension": ".py",
      "mimetype": "text/x-python",
      "name": "python",
      "nbconvert_exporter": "python",
      "pygments_lexer": "ipython3",
      "version": "3.12.3"
    }
  },
  "nbformat": 4,
  "nbformat_minor": 0
}
